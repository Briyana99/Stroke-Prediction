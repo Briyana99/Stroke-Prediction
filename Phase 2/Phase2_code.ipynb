{
 "cells": [
  {
   "cell_type": "code",
   "execution_count": 2,
   "id": "6b0e4f90",
   "metadata": {},
   "outputs": [],
   "source": [
    "import pandas as pd\n",
    "import numpy as np\n",
    "import math\n",
    "from sklearn.preprocessing import LabelEncoder\n",
    "import seaborn as sns\n",
    "import matplotlib.pyplot as plt    \n",
    "from sklearn.metrics import accuracy_score, precision_score, recall_score, f1_score,\\\n",
    "roc_auc_score, roc_curve, plot_roc_curve, auc"
   ]
  },
  {
   "cell_type": "markdown",
   "id": "fa5be738",
   "metadata": {},
   "source": [
    "# PHASE 2"
   ]
  },
  {
   "cell_type": "code",
   "execution_count": 3,
   "id": "2a523fe3",
   "metadata": {},
   "outputs": [],
   "source": [
    "df4= pd.read_csv(\"C:\\\\Users\\\\ranab\\\\Downloads\\\\stroke-data_preprocessed.csv\")   #Reading of preprocessed dataset."
   ]
  },
  {
   "cell_type": "code",
   "execution_count": 4,
   "id": "8b5a6e26",
   "metadata": {},
   "outputs": [
    {
     "data": {
      "text/html": [
       "<div>\n",
       "<style scoped>\n",
       "    .dataframe tbody tr th:only-of-type {\n",
       "        vertical-align: middle;\n",
       "    }\n",
       "\n",
       "    .dataframe tbody tr th {\n",
       "        vertical-align: top;\n",
       "    }\n",
       "\n",
       "    .dataframe thead th {\n",
       "        text-align: right;\n",
       "    }\n",
       "</style>\n",
       "<table border=\"1\" class=\"dataframe\">\n",
       "  <thead>\n",
       "    <tr style=\"text-align: right;\">\n",
       "      <th></th>\n",
       "      <th>gender</th>\n",
       "      <th>age</th>\n",
       "      <th>hypertension</th>\n",
       "      <th>heart_disease</th>\n",
       "      <th>married</th>\n",
       "      <th>work_type</th>\n",
       "      <th>residence_type</th>\n",
       "      <th>avg_glucose_level</th>\n",
       "      <th>bmi</th>\n",
       "      <th>smoking_status</th>\n",
       "    </tr>\n",
       "  </thead>\n",
       "  <tbody>\n",
       "    <tr>\n",
       "      <th>0</th>\n",
       "      <td>1</td>\n",
       "      <td>67</td>\n",
       "      <td>0</td>\n",
       "      <td>1</td>\n",
       "      <td>1</td>\n",
       "      <td>2</td>\n",
       "      <td>1</td>\n",
       "      <td>228</td>\n",
       "      <td>37</td>\n",
       "      <td>1</td>\n",
       "    </tr>\n",
       "    <tr>\n",
       "      <th>1</th>\n",
       "      <td>0</td>\n",
       "      <td>61</td>\n",
       "      <td>0</td>\n",
       "      <td>0</td>\n",
       "      <td>1</td>\n",
       "      <td>3</td>\n",
       "      <td>0</td>\n",
       "      <td>202</td>\n",
       "      <td>29</td>\n",
       "      <td>2</td>\n",
       "    </tr>\n",
       "    <tr>\n",
       "      <th>2</th>\n",
       "      <td>1</td>\n",
       "      <td>80</td>\n",
       "      <td>0</td>\n",
       "      <td>1</td>\n",
       "      <td>1</td>\n",
       "      <td>2</td>\n",
       "      <td>0</td>\n",
       "      <td>105</td>\n",
       "      <td>33</td>\n",
       "      <td>2</td>\n",
       "    </tr>\n",
       "    <tr>\n",
       "      <th>3</th>\n",
       "      <td>0</td>\n",
       "      <td>49</td>\n",
       "      <td>0</td>\n",
       "      <td>0</td>\n",
       "      <td>1</td>\n",
       "      <td>2</td>\n",
       "      <td>1</td>\n",
       "      <td>171</td>\n",
       "      <td>35</td>\n",
       "      <td>3</td>\n",
       "    </tr>\n",
       "    <tr>\n",
       "      <th>4</th>\n",
       "      <td>0</td>\n",
       "      <td>79</td>\n",
       "      <td>1</td>\n",
       "      <td>0</td>\n",
       "      <td>1</td>\n",
       "      <td>3</td>\n",
       "      <td>0</td>\n",
       "      <td>174</td>\n",
       "      <td>24</td>\n",
       "      <td>2</td>\n",
       "    </tr>\n",
       "    <tr>\n",
       "      <th>...</th>\n",
       "      <td>...</td>\n",
       "      <td>...</td>\n",
       "      <td>...</td>\n",
       "      <td>...</td>\n",
       "      <td>...</td>\n",
       "      <td>...</td>\n",
       "      <td>...</td>\n",
       "      <td>...</td>\n",
       "      <td>...</td>\n",
       "      <td>...</td>\n",
       "    </tr>\n",
       "    <tr>\n",
       "      <th>5491</th>\n",
       "      <td>1</td>\n",
       "      <td>63</td>\n",
       "      <td>1</td>\n",
       "      <td>0</td>\n",
       "      <td>0</td>\n",
       "      <td>1</td>\n",
       "      <td>0</td>\n",
       "      <td>191</td>\n",
       "      <td>20</td>\n",
       "      <td>1</td>\n",
       "    </tr>\n",
       "    <tr>\n",
       "      <th>5492</th>\n",
       "      <td>1</td>\n",
       "      <td>74</td>\n",
       "      <td>1</td>\n",
       "      <td>0</td>\n",
       "      <td>0</td>\n",
       "      <td>4</td>\n",
       "      <td>0</td>\n",
       "      <td>121</td>\n",
       "      <td>31</td>\n",
       "      <td>3</td>\n",
       "    </tr>\n",
       "    <tr>\n",
       "      <th>5493</th>\n",
       "      <td>1</td>\n",
       "      <td>68</td>\n",
       "      <td>1</td>\n",
       "      <td>0</td>\n",
       "      <td>0</td>\n",
       "      <td>2</td>\n",
       "      <td>0</td>\n",
       "      <td>199</td>\n",
       "      <td>22</td>\n",
       "      <td>2</td>\n",
       "    </tr>\n",
       "    <tr>\n",
       "      <th>5494</th>\n",
       "      <td>1</td>\n",
       "      <td>74</td>\n",
       "      <td>1</td>\n",
       "      <td>1</td>\n",
       "      <td>0</td>\n",
       "      <td>1</td>\n",
       "      <td>0</td>\n",
       "      <td>114</td>\n",
       "      <td>29</td>\n",
       "      <td>3</td>\n",
       "    </tr>\n",
       "    <tr>\n",
       "      <th>5495</th>\n",
       "      <td>0</td>\n",
       "      <td>79</td>\n",
       "      <td>1</td>\n",
       "      <td>1</td>\n",
       "      <td>0</td>\n",
       "      <td>3</td>\n",
       "      <td>1</td>\n",
       "      <td>124</td>\n",
       "      <td>33</td>\n",
       "      <td>3</td>\n",
       "    </tr>\n",
       "  </tbody>\n",
       "</table>\n",
       "<p>5496 rows × 10 columns</p>\n",
       "</div>"
      ],
      "text/plain": [
       "      gender  age  hypertension  heart_disease  married  work_type  \\\n",
       "0          1   67             0              1        1          2   \n",
       "1          0   61             0              0        1          3   \n",
       "2          1   80             0              1        1          2   \n",
       "3          0   49             0              0        1          2   \n",
       "4          0   79             1              0        1          3   \n",
       "...      ...  ...           ...            ...      ...        ...   \n",
       "5491       1   63             1              0        0          1   \n",
       "5492       1   74             1              0        0          4   \n",
       "5493       1   68             1              0        0          2   \n",
       "5494       1   74             1              1        0          1   \n",
       "5495       0   79             1              1        0          3   \n",
       "\n",
       "      residence_type  avg_glucose_level  bmi  smoking_status  \n",
       "0                  1                228   37               1  \n",
       "1                  0                202   29               2  \n",
       "2                  0                105   33               2  \n",
       "3                  1                171   35               3  \n",
       "4                  0                174   24               2  \n",
       "...              ...                ...  ...             ...  \n",
       "5491               0                191   20               1  \n",
       "5492               0                121   31               3  \n",
       "5493               0                199   22               2  \n",
       "5494               0                114   29               3  \n",
       "5495               1                124   33               3  \n",
       "\n",
       "[5496 rows x 10 columns]"
      ]
     },
     "execution_count": 4,
     "metadata": {},
     "output_type": "execute_result"
    }
   ],
   "source": [
    "X = df4.iloc[:,1:11]                                                      #Splitting the data into dependendent attributes.\n",
    "X1=X.astype('int')                                                        #Conversion of data type into integer.\n",
    "X1"
   ]
  },
  {
   "cell_type": "code",
   "execution_count": 5,
   "id": "19bb2b97",
   "metadata": {},
   "outputs": [
    {
     "data": {
      "text/plain": [
       "0       1\n",
       "1       1\n",
       "2       1\n",
       "3       1\n",
       "4       1\n",
       "       ..\n",
       "5491    1\n",
       "5492    1\n",
       "5493    1\n",
       "5494    1\n",
       "5495    1\n",
       "Name: stroke, Length: 5496, dtype: int32"
      ]
     },
     "execution_count": 5,
     "metadata": {},
     "output_type": "execute_result"
    }
   ],
   "source": [
    "Y = df4.iloc[:,11]                                                          #Splitting the data into target attribute.\n",
    "Y1= Y.astype('int')                                                         #Conversion of target attribute into integer.\n",
    "Y1"
   ]
  },
  {
   "cell_type": "markdown",
   "id": "f01df873",
   "metadata": {},
   "source": [
    "# Split the data"
   ]
  },
  {
   "cell_type": "code",
   "execution_count": 6,
   "id": "1dd579d1",
   "metadata": {},
   "outputs": [],
   "source": [
    "from sklearn.model_selection import train_test_split\n",
    "X_train,X_test,y_train,y_test = train_test_split(X1,Y1,test_size = 0.20,random_state = 235)   #splitting the dataset into 70:20 ratio."
   ]
  },
  {
   "cell_type": "markdown",
   "id": "9124b160",
   "metadata": {},
   "source": [
    "# Deploying the model"
   ]
  },
  {
   "cell_type": "markdown",
   "id": "45f9989b",
   "metadata": {},
   "source": [
    "# SVM"
   ]
  },
  {
   "cell_type": "code",
   "execution_count": 7,
   "id": "774e89a1",
   "metadata": {},
   "outputs": [
    {
     "data": {
      "text/plain": [
       "SVC(random_state=1)"
      ]
     },
     "execution_count": 7,
     "metadata": {},
     "output_type": "execute_result"
    }
   ],
   "source": [
    "from sklearn.svm import SVC\n",
    "svm = SVC(random_state=1)                                                     #Deploying svm method into the model\n",
    "svm.fit(X_train,y_train)                                                        "
   ]
  },
  {
   "cell_type": "code",
   "execution_count": 8,
   "id": "4fbe8c21",
   "metadata": {},
   "outputs": [
    {
     "data": {
      "text/plain": [
       "array([0, 0, 0, ..., 0, 0, 0])"
      ]
     },
     "execution_count": 8,
     "metadata": {},
     "output_type": "execute_result"
    }
   ],
   "source": [
    "y_pred = svm.predict(X_test)    \n",
    "y_pred                                                                         #predicting the values of y_test"
   ]
  },
  {
   "cell_type": "code",
   "execution_count": 9,
   "id": "42430259",
   "metadata": {},
   "outputs": [],
   "source": [
    "y_pred_train = svm.predict(X_train)                                            #predicting the values of y_train"
   ]
  },
  {
   "cell_type": "markdown",
   "id": "db19501e",
   "metadata": {},
   "source": [
    "## Train Test Accuracy "
   ]
  },
  {
   "cell_type": "code",
   "execution_count": 10,
   "id": "b3600f2b",
   "metadata": {},
   "outputs": [
    {
     "name": "stdout",
     "output_type": "stream",
     "text": [
      "Test accuracy_score: 0.9172727272727272\n",
      "Train accuracy_score: 0.9112829845313922\n"
     ]
    }
   ],
   "source": [
    "print(\"Test accuracy_score: \" + str(accuracy_score(y_test, y_pred)))\n",
    "print(\"Train accuracy_score: \" + str(accuracy_score(y_train, y_pred_train)))"
   ]
  },
  {
   "cell_type": "code",
   "execution_count": 11,
   "id": "c2594a3c",
   "metadata": {},
   "outputs": [],
   "source": [
    "train_scores = svm.score(X_train,y_train)\n",
    "test_scores = svm.score(X_test,y_test)"
   ]
  },
  {
   "cell_type": "code",
   "execution_count": 12,
   "id": "5d946529",
   "metadata": {},
   "outputs": [
    {
     "name": "stderr",
     "output_type": "stream",
     "text": [
      "C:\\Users\\ranab\\anaconda3\\lib\\site-packages\\seaborn\\_decorators.py:36: FutureWarning: Pass the following variables as keyword args: x, y. From version 0.12, the only valid positional argument will be `data`, and passing other arguments without an explicit keyword will result in an error or misinterpretation.\n",
      "  warnings.warn(\n",
      "C:\\Users\\ranab\\anaconda3\\lib\\site-packages\\seaborn\\_decorators.py:36: FutureWarning: Pass the following variables as keyword args: x, y. From version 0.12, the only valid positional argument will be `data`, and passing other arguments without an explicit keyword will result in an error or misinterpretation.\n",
      "  warnings.warn(\n"
     ]
    },
    {
     "data": {
      "image/png": "[encoded data removed]",
      "text/plain": [
       "<Figure size 864x360 with 1 Axes>"
      ]
     },
     "metadata": {
      "needs_background": "light"
     },
     "output_type": "display_data"
    }
   ],
   "source": [
    "plt.figure(figsize=(12,5))\n",
    "p = sns.lineplot(range(1,15),train_scores,marker='*',label='Train Score')\n",
    "p = sns.lineplot(range(1,15),test_scores,marker='o',label='Test Score')               #plotting train test score values into line plot."
   ]
  },
  {
   "cell_type": "code",
   "execution_count": 13,
   "id": "b7303bdc",
   "metadata": {},
   "outputs": [
    {
     "data": {
      "image/png": "[encoded data removed]",
      "text/plain": [
       "<Figure size 360x432 with 2 Axes>"
      ]
     },
     "metadata": {
      "needs_background": "light"
     },
     "output_type": "display_data"
    }
   ],
   "source": [
    "from sklearn.metrics import confusion_matrix\n",
    "plt.figure(figsize=(5,6)) \n",
    "cm= confusion_matrix(y_test, y_pred)\n",
    "ax=sns.heatmap(cm,annot=True,cmap='Blues')\n",
    "ax.set_xlabel('Predicted Values')\n",
    "ax.set_ylabel('Actual Values')\n",
    "plt.show()                                                                     #plotting the confusion matrix"
   ]
  },
  {
   "cell_type": "code",
   "execution_count": 14,
   "id": "1987a143",
   "metadata": {},
   "outputs": [],
   "source": [
    "from sklearn.metrics import accuracy_score, precision_score, recall_score, f1_score,\\\n",
    "roc_auc_score, roc_curve, plot_roc_curve, auc"
   ]
  },
  {
   "cell_type": "code",
   "execution_count": 15,
   "id": "0dca1137",
   "metadata": {},
   "outputs": [
    {
     "data": {
      "text/plain": [
       "0.9172727272727272"
      ]
     },
     "execution_count": 15,
     "metadata": {},
     "output_type": "execute_result"
    }
   ],
   "source": [
    "accuracy_score(y_test,y_pred)                                    #Displaying the accuracy score of the model"
   ]
  },
  {
   "cell_type": "code",
   "execution_count": 16,
   "id": "be4e9ad2",
   "metadata": {},
   "outputs": [
    {
     "data": {
      "text/plain": [
       "0.7377049180327869"
      ]
     },
     "execution_count": 16,
     "metadata": {},
     "output_type": "execute_result"
    }
   ],
   "source": [
    "precision_score(y_test,y_pred)                                    #Displaying the precision score of the model."
   ]
  },
  {
   "cell_type": "code",
   "execution_count": 17,
   "id": "570afebf",
   "metadata": {},
   "outputs": [
    {
     "data": {
      "text/plain": [
       "0.375"
      ]
     },
     "execution_count": 17,
     "metadata": {},
     "output_type": "execute_result"
    }
   ],
   "source": [
    "recall_score(y_test,y_pred)                                       #Displaying the recall score of the model."
   ]
  },
  {
   "cell_type": "code",
   "execution_count": 18,
   "id": "2406917e",
   "metadata": {},
   "outputs": [
    {
     "data": {
      "text/plain": [
       "0.49723756906077343"
      ]
     },
     "execution_count": 18,
     "metadata": {},
     "output_type": "execute_result"
    }
   ],
   "source": [
    "f1_score(y_test,y_pred)                                            #Displaying the f1 score of the model."
   ]
  },
  {
   "cell_type": "code",
   "execution_count": 19,
   "id": "b3afb4f4",
   "metadata": {},
   "outputs": [
    {
     "data": {
      "text/plain": [
       "<Figure size 144x216 with 0 Axes>"
      ]
     },
     "metadata": {},
     "output_type": "display_data"
    },
    {
     "data": {
      "image/png": "[encoded data removed]",
      "text/plain": [
       "<Figure size 432x288 with 1 Axes>"
      ]
     },
     "metadata": {
      "needs_background": "light"
     },
     "output_type": "display_data"
    }
   ],
   "source": [
    "plt.figure(figsize=(2,3))\n",
    "plot_roc_curve(svm,X_test, y_test)\n",
    "plt.show()                                                         #plotting the roc curve using svm model."
   ]
  },
  {
   "cell_type": "markdown",
   "id": "5868c162",
   "metadata": {},
   "source": [
    "# LOGISTIC REGRESSION"
   ]
  },
  {
   "cell_type": "code",
   "execution_count": 20,
   "id": "b2709013",
   "metadata": {},
   "outputs": [
    {
     "name": "stderr",
     "output_type": "stream",
     "text": [
      "C:\\Users\\ranab\\anaconda3\\lib\\site-packages\\sklearn\\linear_model\\_logistic.py:763: ConvergenceWarning: lbfgs failed to converge (status=1):\n",
      "STOP: TOTAL NO. of ITERATIONS REACHED LIMIT.\n",
      "\n",
      "Increase the number of iterations (max_iter) or scale the data as shown in:\n",
      "    https://scikit-learn.org/stable/modules/preprocessing.html\n",
      "Please also refer to the documentation for alternative solver options:\n",
      "    https://scikit-learn.org/stable/modules/linear_model.html#logistic-regression\n",
      "  n_iter_i = _check_optimize_result(\n"
     ]
    },
    {
     "data": {
      "text/plain": [
       "LogisticRegression()"
      ]
     },
     "execution_count": 20,
     "metadata": {},
     "output_type": "execute_result"
    }
   ],
   "source": [
    "from sklearn.linear_model import LogisticRegression\n",
    "regressor = LogisticRegression()\n",
    "clc = regressor.fit(X_train, y_train)\n",
    "regressor"
   ]
  },
  {
   "cell_type": "code",
   "execution_count": 21,
   "id": "a7baea2a",
   "metadata": {},
   "outputs": [],
   "source": [
    "y1_pred = clc.predict(X_test)   #predicting the values of y_test"
   ]
  },
  {
   "cell_type": "code",
   "execution_count": 22,
   "id": "73f7295c",
   "metadata": {},
   "outputs": [],
   "source": [
    "y_train_pred1= clc.predict(X_train)"
   ]
  },
  {
   "cell_type": "markdown",
   "id": "d0f03ba8",
   "metadata": {},
   "source": [
    "## Train Test accuracy"
   ]
  },
  {
   "cell_type": "code",
   "execution_count": 23,
   "id": "2bad52fd",
   "metadata": {},
   "outputs": [
    {
     "name": "stdout",
     "output_type": "stream",
     "text": [
      "Test accuracy_score: 0.9418181818181818\n",
      "Train accuracy_score: 0.9406278434940856\n"
     ]
    }
   ],
   "source": [
    "print(\"Test accuracy_score: \" + str(accuracy_score(y_test, y1_pred)))\n",
    "print(\"Train accuracy_score: \" + str(accuracy_score(y_train, y_train_pred1)))"
   ]
  },
  {
   "cell_type": "code",
   "execution_count": 24,
   "id": "e0eb8252",
   "metadata": {},
   "outputs": [],
   "source": [
    "train_scores = clc.score(X_train,y_train)\n",
    "test_scores = clc.score(X_test,y_test)"
   ]
  },
  {
   "cell_type": "code",
   "execution_count": 25,
   "id": "59bc8363",
   "metadata": {},
   "outputs": [
    {
     "name": "stderr",
     "output_type": "stream",
     "text": [
      "C:\\Users\\ranab\\anaconda3\\lib\\site-packages\\seaborn\\_decorators.py:36: FutureWarning: Pass the following variables as keyword args: x, y. From version 0.12, the only valid positional argument will be `data`, and passing other arguments without an explicit keyword will result in an error or misinterpretation.\n",
      "  warnings.warn(\n",
      "C:\\Users\\ranab\\anaconda3\\lib\\site-packages\\seaborn\\_decorators.py:36: FutureWarning: Pass the following variables as keyword args: x, y. From version 0.12, the only valid positional argument will be `data`, and passing other arguments without an explicit keyword will result in an error or misinterpretation.\n",
      "  warnings.warn(\n"
     ]
    },
    {
     "data": {
      "image/png": "[encoded data removed]",
      "text/plain": [
       "<Figure size 864x360 with 1 Axes>"
      ]
     },
     "metadata": {
      "needs_background": "light"
     },
     "output_type": "display_data"
    }
   ],
   "source": [
    "plt.figure(figsize=(12,5))\n",
    "p = sns.lineplot(range(1,15),train_scores,marker='*',label='Train Score')\n",
    "p = sns.lineplot(range(1,15),test_scores,marker='o',label='Test Score')               #plotting train test score values into line plot."
   ]
  },
  {
   "cell_type": "code",
   "execution_count": 26,
   "id": "77da97fd",
   "metadata": {},
   "outputs": [
    {
     "data": {
      "text/plain": [
       "0.9418181818181818"
      ]
     },
     "execution_count": 26,
     "metadata": {},
     "output_type": "execute_result"
    }
   ],
   "source": [
    "from sklearn.metrics import accuracy_score\n",
    "accuracy_score(y_test,y1_pred)                                          #Displaying the accuracy score of the model"
   ]
  },
  {
   "cell_type": "code",
   "execution_count": 27,
   "id": "9dd043d0",
   "metadata": {},
   "outputs": [
    {
     "data": {
      "image/png": "[encoded data removed]",
      "text/plain": [
       "<Figure size 360x432 with 2 Axes>"
      ]
     },
     "metadata": {
      "needs_background": "light"
     },
     "output_type": "display_data"
    }
   ],
   "source": [
    "from sklearn.metrics import confusion_matrix\n",
    "plt.figure(figsize=(5,6)) \n",
    "cm= confusion_matrix(y_test, y1_pred)\n",
    "ax=sns.heatmap(cm,annot=True,cmap='Blues')\n",
    "ax.set_xlabel('Predicted Values')\n",
    "ax.set_ylabel('Actual Values')\n",
    "plt.show()                                                              #Displaying the confusion matrix"
   ]
  },
  {
   "cell_type": "code",
   "execution_count": 28,
   "id": "2e77c49c",
   "metadata": {},
   "outputs": [
    {
     "data": {
      "image/png": "[encoded data removed]",
      "text/plain": [
       "<Figure size 432x288 with 1 Axes>"
      ]
     },
     "metadata": {
      "needs_background": "light"
     },
     "output_type": "display_data"
    }
   ],
   "source": [
    "plot_roc_curve(clc,X_test, y_test)\n",
    "plt.show()                                                              #Plotting the ROC curve using Logistic regression model."
   ]
  },
  {
   "cell_type": "code",
   "execution_count": 29,
   "id": "f844ac06",
   "metadata": {},
   "outputs": [
    {
     "data": {
      "text/plain": [
       "0.6166666666666667"
      ]
     },
     "execution_count": 29,
     "metadata": {},
     "output_type": "execute_result"
    }
   ],
   "source": [
    "from sklearn.metrics import recall_score\n",
    "recall_score(y_test,y1_pred)                                            #Displaying the recall score of the model."
   ]
  },
  {
   "cell_type": "code",
   "execution_count": 30,
   "id": "c21cbe53",
   "metadata": {},
   "outputs": [
    {
     "data": {
      "text/plain": [
       "0.8043478260869565"
      ]
     },
     "execution_count": 30,
     "metadata": {},
     "output_type": "execute_result"
    }
   ],
   "source": [
    "from sklearn.metrics import precision_score\n",
    "precision_score(y_test,y1_pred)                                         #Displaying the precision score of the model."
   ]
  },
  {
   "cell_type": "code",
   "execution_count": 31,
   "id": "03240152",
   "metadata": {},
   "outputs": [
    {
     "data": {
      "text/plain": [
       "0.6981132075471699"
      ]
     },
     "execution_count": 31,
     "metadata": {},
     "output_type": "execute_result"
    }
   ],
   "source": [
    "f1_score(y_test,y1_pred)                                               #Displaying the precision score of the model"
   ]
  },
  {
   "cell_type": "markdown",
   "id": "38f1d300",
   "metadata": {},
   "source": [
    "# DECISION TREE "
   ]
  },
  {
   "cell_type": "code",
   "execution_count": 32,
   "id": "91893091",
   "metadata": {},
   "outputs": [],
   "source": [
    "from sklearn.tree import DecisionTreeClassifier, plot_tree             #Importing the model Decision Tree"
   ]
  },
  {
   "cell_type": "markdown",
   "id": "f596bd41",
   "metadata": {},
   "source": [
    "## Train Test accuracy"
   ]
  },
  {
   "cell_type": "code",
   "execution_count": 33,
   "id": "adeecef6",
   "metadata": {},
   "outputs": [
    {
     "name": "stdout",
     "output_type": "stream",
     "text": [
      "Test accuracy_score: 0.9109090909090909\n",
      "Train accuracy_score: 1.0\n"
     ]
    }
   ],
   "source": [
    "model = DecisionTreeClassifier(max_depth= 20)\n",
    "model.fit(X_train, y_train)\n",
    "predsdtc = model.predict(X_test)\n",
    "predsdtc1 = model.predict(X_train)\n",
    "print(\"Test accuracy_score: \" + str(accuracy_score(y_test, predsdtc)))\n",
    "print(\"Train accuracy_score: \" + str(accuracy_score(y_train, predsdtc1)))"
   ]
  },
  {
   "cell_type": "code",
   "execution_count": 34,
   "id": "5178866e",
   "metadata": {},
   "outputs": [],
   "source": [
    "train_scores = model.score(X_train,y_train)\n",
    "test_scores = model.score(X_test,y_test)"
   ]
  },
  {
   "cell_type": "code",
   "execution_count": 35,
   "id": "885acc91",
   "metadata": {},
   "outputs": [
    {
     "name": "stderr",
     "output_type": "stream",
     "text": [
      "C:\\Users\\ranab\\anaconda3\\lib\\site-packages\\seaborn\\_decorators.py:36: FutureWarning: Pass the following variables as keyword args: x, y. From version 0.12, the only valid positional argument will be `data`, and passing other arguments without an explicit keyword will result in an error or misinterpretation.\n",
      "  warnings.warn(\n",
      "C:\\Users\\ranab\\anaconda3\\lib\\site-packages\\seaborn\\_decorators.py:36: FutureWarning: Pass the following variables as keyword args: x, y. From version 0.12, the only valid positional argument will be `data`, and passing other arguments without an explicit keyword will result in an error or misinterpretation.\n",
      "  warnings.warn(\n"
     ]
    },
    {
     "data": {
      "image/png": "[encoded data removed]",
      "text/plain": [
       "<Figure size 864x360 with 1 Axes>"
      ]
     },
     "metadata": {
      "needs_background": "light"
     },
     "output_type": "display_data"
    }
   ],
   "source": [
    "plt.figure(figsize=(12,5))\n",
    "p = sns.lineplot(range(1,15),train_scores,marker='*',label='Train Score')\n",
    "p = sns.lineplot(range(1,15),test_scores,marker='o',label='Test Score')               #plotting train test score values into line plot."
   ]
  },
  {
   "cell_type": "code",
   "execution_count": 36,
   "id": "309b06f2",
   "metadata": {},
   "outputs": [
    {
     "name": "stdout",
     "output_type": "stream",
     "text": [
      "f1_score: 0.6141732283464567\n"
     ]
    }
   ],
   "source": [
    "print(\"f1_score: \" + str(f1_score(y_test, predsdtc)))                  #Displaying F1 score of the model."
   ]
  },
  {
   "cell_type": "code",
   "execution_count": 37,
   "id": "d6068623",
   "metadata": {},
   "outputs": [
    {
     "data": {
      "text/plain": [
       "0.582089552238806"
      ]
     },
     "execution_count": 37,
     "metadata": {},
     "output_type": "execute_result"
    }
   ],
   "source": [
    "precision_score(y_test,predsdtc)                                       #Displaying Precision score of the model."
   ]
  },
  {
   "cell_type": "code",
   "execution_count": 38,
   "id": "fc78c081",
   "metadata": {},
   "outputs": [
    {
     "data": {
      "text/plain": [
       "0.65"
      ]
     },
     "execution_count": 38,
     "metadata": {},
     "output_type": "execute_result"
    }
   ],
   "source": [
    "recall_score(y_test,predsdtc)                                          #Displaying Recall score of the model."
   ]
  },
  {
   "cell_type": "code",
   "execution_count": 39,
   "id": "cbfb2b86",
   "metadata": {},
   "outputs": [
    {
     "name": "stdout",
     "output_type": "stream",
     "text": [
      "ROC AUC score: 0.7964285714285714\n"
     ]
    }
   ],
   "source": [
    "print(\"ROC AUC score: \" + str(roc_auc_score(y_test, predsdtc)))       #Displaying ROC AUC score of the model."
   ]
  },
  {
   "cell_type": "code",
   "execution_count": 40,
   "id": "6527e887",
   "metadata": {},
   "outputs": [
    {
     "data": {
      "image/png": "[encoded data removed]",
      "text/plain": [
       "<Figure size 1440x720 with 1 Axes>"
      ]
     },
     "metadata": {
      "needs_background": "light"
     },
     "output_type": "display_data"
    }
   ],
   "source": [
    "plt.figure(figsize=(20,10))\n",
    "plot_tree(model,feature_names=X_train.columns,max_depth = 2,filled=True,class_names = True)\n",
    "plt.show()                                                           #Plot of trees in the given dataset."
   ]
  },
  {
   "cell_type": "code",
   "execution_count": 41,
   "id": "39029068",
   "metadata": {},
   "outputs": [
    {
     "data": {
      "image/png": "[encoded data removed]",
      "text/plain": [
       "<Figure size 432x288 with 1 Axes>"
      ]
     },
     "metadata": {
      "needs_background": "light"
     },
     "output_type": "display_data"
    }
   ],
   "source": [
    "plot_roc_curve(model,X_test, y_test)\n",
    "plt.show()                                                   #plotting ROC Curve of the model."
   ]
  },
  {
   "cell_type": "code",
   "execution_count": 42,
   "id": "466db6a8",
   "metadata": {},
   "outputs": [
    {
     "data": {
      "image/png": "[encoded data removed]",
      "text/plain": [
       "<Figure size 360x432 with 2 Axes>"
      ]
     },
     "metadata": {
      "needs_background": "light"
     },
     "output_type": "display_data"
    }
   ],
   "source": [
    "from sklearn.metrics import confusion_matrix\n",
    "plt.figure(figsize=(5,6)) \n",
    "cm= confusion_matrix(y_test,predsdtc)\n",
    "ax=sns.heatmap(cm,annot=True,cmap='Blues')\n",
    "ax.set_xlabel('Predicted Values')\n",
    "ax.set_ylabel('Actual Values')\n",
    "plt.show()                                                            #Confusion matrix of the model prediction."
   ]
  },
  {
   "cell_type": "markdown",
   "id": "82b9063f",
   "metadata": {},
   "source": [
    "# RANDOM FOREST"
   ]
  },
  {
   "cell_type": "code",
   "execution_count": 43,
   "id": "427efaf4",
   "metadata": {},
   "outputs": [],
   "source": [
    "from sklearn.ensemble import RandomForestClassifier                  #Importing Random Forest Classifier."
   ]
  },
  {
   "cell_type": "code",
   "execution_count": 44,
   "id": "052228ac",
   "metadata": {},
   "outputs": [
    {
     "data": {
      "text/plain": [
       "RandomForestClassifier(criterion='entropy', random_state=0)"
      ]
     },
     "execution_count": 44,
     "metadata": {},
     "output_type": "execute_result"
    }
   ],
   "source": [
    "rf = RandomForestClassifier(n_estimators = 100, criterion= 'entropy', random_state = 0)\n",
    "rf.fit(X_train,y_train)"
   ]
  },
  {
   "cell_type": "code",
   "execution_count": 45,
   "id": "6df981dd",
   "metadata": {},
   "outputs": [],
   "source": [
    "train_scores = rf.score(X_train,y_train)\n",
    "test_scores = rf.score(X_test,y_test)"
   ]
  },
  {
   "cell_type": "code",
   "execution_count": 46,
   "id": "789aaffd",
   "metadata": {},
   "outputs": [
    {
     "name": "stderr",
     "output_type": "stream",
     "text": [
      "C:\\Users\\ranab\\anaconda3\\lib\\site-packages\\seaborn\\_decorators.py:36: FutureWarning: Pass the following variables as keyword args: x, y. From version 0.12, the only valid positional argument will be `data`, and passing other arguments without an explicit keyword will result in an error or misinterpretation.\n",
      "  warnings.warn(\n",
      "C:\\Users\\ranab\\anaconda3\\lib\\site-packages\\seaborn\\_decorators.py:36: FutureWarning: Pass the following variables as keyword args: x, y. From version 0.12, the only valid positional argument will be `data`, and passing other arguments without an explicit keyword will result in an error or misinterpretation.\n",
      "  warnings.warn(\n"
     ]
    },
    {
     "data": {
      "image/png": "[encoded data removed]",
      "text/plain": [
       "<Figure size 864x360 with 1 Axes>"
      ]
     },
     "metadata": {
      "needs_background": "light"
     },
     "output_type": "display_data"
    }
   ],
   "source": [
    "plt.figure(figsize=(12,5))\n",
    "p = sns.lineplot(range(1,15),train_scores,marker='*',label='Train Score')\n",
    "p = sns.lineplot(range(1,15),test_scores,marker='o',label='Test Score')               #plotting train test score values into line plot."
   ]
  },
  {
   "cell_type": "markdown",
   "id": "80116ca5",
   "metadata": {},
   "source": [
    "## Train Test Accuracy"
   ]
  },
  {
   "cell_type": "code",
   "execution_count": 47,
   "id": "cf853764",
   "metadata": {},
   "outputs": [
    {
     "name": "stdout",
     "output_type": "stream",
     "text": [
      "Test accuracy_score: 0.95\n",
      "Train accuracy_score: 1.0\n"
     ]
    }
   ],
   "source": [
    "y_pred_train_rf = rf.predict(X_train)\n",
    "train_accuracy = accuracy_score(y_train, y_pred_train_rf)\n",
    "\n",
    "y_pred_test_rf = rf.predict(X_test)\n",
    "test_accuracy = accuracy_score(y_test, y_pred_test_rf)\n",
    "print(\"Test accuracy_score: \" + str(accuracy_score(y_test,y_pred_test_rf)))\n",
    "print(\"Train accuracy_score: \" + str(accuracy_score(y_train,y_pred_train_rf)))"
   ]
  },
  {
   "cell_type": "code",
   "execution_count": 48,
   "id": "34c5cbae",
   "metadata": {},
   "outputs": [
    {
     "name": "stdout",
     "output_type": "stream",
     "text": [
      "ROC AUC Score: 0.9153826530612245\n"
     ]
    }
   ],
   "source": [
    "y_pred_prob = rf.predict_proba(X_test)[:, 1]\n",
    "roc_score = roc_auc_score(y_test, y_pred_prob)\n",
    "print('ROC AUC Score:', roc_score)                         #Displaying the ROC AUC score of the model."
   ]
  },
  {
   "cell_type": "code",
   "execution_count": 49,
   "id": "3e5403ce",
   "metadata": {},
   "outputs": [
    {
     "data": {
      "image/png": "[encoded data removed]",
      "text/plain": [
       "<Figure size 432x288 with 1 Axes>"
      ]
     },
     "metadata": {
      "needs_background": "light"
     },
     "output_type": "display_data"
    }
   ],
   "source": [
    "plot_roc_curve(rf,X_test, y_test)\n",
    "plt.show()                                                 #Displaying the roc curve of the model."
   ]
  },
  {
   "cell_type": "code",
   "execution_count": 50,
   "id": "eac5ba2c",
   "metadata": {},
   "outputs": [
    {
     "data": {
      "text/plain": [
       "0.922077922077922"
      ]
     },
     "execution_count": 50,
     "metadata": {},
     "output_type": "execute_result"
    }
   ],
   "source": [
    "from sklearn.metrics import precision_score\n",
    "precision_score(y_test,y_pred_test_rf)                         #Displaying precision score of the model"
   ]
  },
  {
   "cell_type": "code",
   "execution_count": 51,
   "id": "87d8d9fb",
   "metadata": {},
   "outputs": [
    {
     "data": {
      "text/plain": [
       "0.95"
      ]
     },
     "execution_count": 51,
     "metadata": {},
     "output_type": "execute_result"
    }
   ],
   "source": [
    "accuracy_score(y_test,y_pred_test_rf)"
   ]
  },
  {
   "cell_type": "code",
   "execution_count": 52,
   "id": "4f205d0b",
   "metadata": {},
   "outputs": [
    {
     "data": {
      "text/plain": [
       "0.5916666666666667"
      ]
     },
     "execution_count": 52,
     "metadata": {},
     "output_type": "execute_result"
    }
   ],
   "source": [
    "from sklearn.metrics import recall_score\n",
    "recall_score(y_test,y_pred_test_rf)                            #Displaying Recall score of the model"
   ]
  },
  {
   "cell_type": "code",
   "execution_count": 53,
   "id": "51159514",
   "metadata": {},
   "outputs": [
    {
     "data": {
      "text/plain": [
       "0.7208121827411168"
      ]
     },
     "execution_count": 53,
     "metadata": {},
     "output_type": "execute_result"
    }
   ],
   "source": [
    "f1_score(y_test,y_pred_test_rf)                               #Displaying F1 score of the model"
   ]
  },
  {
   "cell_type": "code",
   "execution_count": 54,
   "id": "73b04ef7",
   "metadata": {},
   "outputs": [
    {
     "data": {
      "image/png": "[encoded data removed]",
      "text/plain": [
       "<Figure size 360x432 with 2 Axes>"
      ]
     },
     "metadata": {
      "needs_background": "light"
     },
     "output_type": "display_data"
    }
   ],
   "source": [
    "from sklearn.metrics import confusion_matrix\n",
    "plt.figure(figsize=(5,6)) \n",
    "cm= confusion_matrix(y_test, y_pred_test_rf)\n",
    "ax=sns.heatmap(cm,annot=True,cmap='Blues')\n",
    "ax.set_xlabel('Predicted Values')\n",
    "ax.set_ylabel('Actual Values')\n",
    "plt.show()                                                   #Displaying confusion matrix of the model prediction."
   ]
  },
  {
   "cell_type": "markdown",
   "id": "aff0efc7",
   "metadata": {},
   "source": [
    "# KNN"
   ]
  },
  {
   "cell_type": "code",
   "execution_count": 55,
   "id": "74fc65b2",
   "metadata": {},
   "outputs": [],
   "source": [
    "from sklearn.neighbors import KNeighborsClassifier                        #importing KNN classifier.\n",
    "\n",
    "\n",
    "test_scores = []\n",
    "train_scores = []\n",
    "\n",
    "for i in range(1,15):\n",
    "\n",
    "    knn = KNeighborsClassifier(i)\n",
    "    knn.fit(X_train,y_train)\n",
    "    \n",
    "    train_scores.append(knn.score(X_train,y_train))\n",
    "    test_scores.append(knn.score(X_test,y_test))"
   ]
  },
  {
   "cell_type": "markdown",
   "id": "2228248d",
   "metadata": {},
   "source": [
    "## Train Test Accuracy"
   ]
  },
  {
   "cell_type": "code",
   "execution_count": 56,
   "id": "23d91ad9",
   "metadata": {},
   "outputs": [
    {
     "name": "stdout",
     "output_type": "stream",
     "text": [
      "Train Accuracy 100.0 % and k = [1]\n",
      "Test Accuracy 91.72727272727272 % and k = [13, 14]\n"
     ]
    }
   ],
   "source": [
    "train_accuracy = max(train_scores)\n",
    "train_scores_ind = [i for i, v in enumerate(train_scores) if v == train_accuracy]\n",
    "print('Train Accuracy {} % and k = {}'.format(train_accuracy*100,list(map(lambda x: x+1, train_scores_ind))))\n",
    "max_test_score = max(test_scores)\n",
    "test_scores_ind = [i for i, v in enumerate(test_scores) if v == max_test_score]\n",
    "print('Test Accuracy {} % and k = {}'.format(max_test_score*100,list(map(lambda x: x+1, test_scores_ind))))"
   ]
  },
  {
   "cell_type": "code",
   "execution_count": 57,
   "id": "e742e425",
   "metadata": {},
   "outputs": [
    {
     "name": "stderr",
     "output_type": "stream",
     "text": [
      "C:\\Users\\ranab\\anaconda3\\lib\\site-packages\\seaborn\\_decorators.py:36: FutureWarning: Pass the following variables as keyword args: x, y. From version 0.12, the only valid positional argument will be `data`, and passing other arguments without an explicit keyword will result in an error or misinterpretation.\n",
      "  warnings.warn(\n",
      "C:\\Users\\ranab\\anaconda3\\lib\\site-packages\\seaborn\\_decorators.py:36: FutureWarning: Pass the following variables as keyword args: x, y. From version 0.12, the only valid positional argument will be `data`, and passing other arguments without an explicit keyword will result in an error or misinterpretation.\n",
      "  warnings.warn(\n"
     ]
    },
    {
     "data": {
      "image/png": "[encoded data removed]",
      "text/plain": [
       "<Figure size 864x360 with 1 Axes>"
      ]
     },
     "metadata": {
      "needs_background": "light"
     },
     "output_type": "display_data"
    }
   ],
   "source": [
    "plt.figure(figsize=(12,5))\n",
    "p = sns.lineplot(range(1,15),train_scores,marker='*',label='Train Score')\n",
    "p = sns.lineplot(range(1,15),test_scores,marker='o',label='Test Score')               #plotting train test score values into line plot."
   ]
  },
  {
   "cell_type": "code",
   "execution_count": 58,
   "id": "dc865136",
   "metadata": {},
   "outputs": [
    {
     "data": {
      "text/plain": [
       "0.91"
      ]
     },
     "execution_count": 58,
     "metadata": {},
     "output_type": "execute_result"
    }
   ],
   "source": [
    "knn = KNeighborsClassifier(8)\n",
    "\n",
    "knn.fit(X_train,y_train)\n",
    "knn.score(X_test,y_test)                              #accuracy score of the model."
   ]
  },
  {
   "cell_type": "code",
   "execution_count": 59,
   "id": "7474e351",
   "metadata": {},
   "outputs": [
    {
     "data": {
      "image/png": "[encoded data removed]",
      "text/plain": [
       "<Figure size 432x288 with 1 Axes>"
      ]
     },
     "metadata": {
      "needs_background": "light"
     },
     "output_type": "display_data"
    }
   ],
   "source": [
    "plot_roc_curve(knn,X_test, y_test)\n",
    "plt.show()                                            #Plotting the ROC curve of the model."
   ]
  },
  {
   "cell_type": "code",
   "execution_count": 60,
   "id": "d919548c",
   "metadata": {},
   "outputs": [],
   "source": [
    "Y_pred = knn.predict(X_test)\n",
    "Y_pred_train= knn.predict(X_train)"
   ]
  },
  {
   "cell_type": "code",
   "execution_count": 61,
   "id": "912d1f34",
   "metadata": {},
   "outputs": [
    {
     "data": {
      "text/plain": [
       "0.7931034482758621"
      ]
     },
     "execution_count": 61,
     "metadata": {},
     "output_type": "execute_result"
    }
   ],
   "source": [
    "from sklearn.metrics import precision_score\n",
    "precision_score(y_train,Y_pred_train)                                         #Displaying the precision score of the model."
   ]
  },
  {
   "cell_type": "code",
   "execution_count": 62,
   "id": "875ae6ce",
   "metadata": {},
   "outputs": [
    {
     "data": {
      "text/plain": [
       "0.4166666666666667"
      ]
     },
     "execution_count": 62,
     "metadata": {},
     "output_type": "execute_result"
    }
   ],
   "source": [
    "recall_score(y_test,Y_pred)                                                  #Displaying the recall score of the model."
   ]
  },
  {
   "cell_type": "code",
   "execution_count": 63,
   "id": "940dd4a9",
   "metadata": {},
   "outputs": [
    {
     "data": {
      "text/plain": [
       "0.5025125628140704"
      ]
     },
     "execution_count": 63,
     "metadata": {},
     "output_type": "execute_result"
    }
   ],
   "source": [
    "f1_score(y_test,Y_pred)                                                     #Displaying the F1 Score of the model."
   ]
  },
  {
   "cell_type": "code",
   "execution_count": 64,
   "id": "da554d0d",
   "metadata": {},
   "outputs": [
    {
     "data": {
      "image/png": "[encoded data removed]",
      "text/plain": [
       "<Figure size 360x432 with 2 Axes>"
      ]
     },
     "metadata": {
      "needs_background": "light"
     },
     "output_type": "display_data"
    }
   ],
   "source": [
    "from sklearn.metrics import confusion_matrix\n",
    "plt.figure(figsize=(5,6)) \n",
    "cm= confusion_matrix(y_test, Y_pred)\n",
    "ax=sns.heatmap(cm,annot=True,cmap='Blues')\n",
    "ax.set_xlabel('Predicted Values')\n",
    "ax.set_ylabel('Actual Values')\n",
    "plt.show()                                                                #Displaying the confusion matrix of the knn model"
   ]
  },
  {
   "cell_type": "markdown",
   "id": "7290cd6c",
   "metadata": {},
   "source": [
    "# METRICS COMPARISION AMONG MODELS "
   ]
  },
  {
   "cell_type": "code",
   "execution_count": 65,
   "id": "2633fa3a",
   "metadata": {},
   "outputs": [
    {
     "name": "stdout",
     "output_type": "stream",
     "text": [
      "Precision score of KNN is: 0.6329113924050633\n",
      "Precision score of Random Forest Classifier is: 0.922077922077922\n",
      "Precision score of Decision Tree Classifier is: 0.582089552238806\n",
      "Precision score of Support Vector Machine is: 0.7377049180327869\n",
      "Precision score of Logistic Regression is: 0.8043478260869565\n"
     ]
    }
   ],
   "source": [
    "print(\"Precision score of KNN is:\", precision_score(y_test,Y_pred))\n",
    "print(\"Precision score of Random Forest Classifier is:\", precision_score(y_test,y_pred_test_rf))\n",
    "print(\"Precision score of Decision Tree Classifier is:\", precision_score(y_test,predsdtc))\n",
    "print(\"Precision score of Support Vector Machine is:\", precision_score(y_test,y_pred))\n",
    "print(\"Precision score of Logistic Regression is:\", precision_score(y_test,y1_pred))"
   ]
  },
  {
   "cell_type": "code",
   "execution_count": 66,
   "id": "5cdd71d0",
   "metadata": {},
   "outputs": [
    {
     "name": "stdout",
     "output_type": "stream",
     "text": [
      "Recall score of KNN is: 0.4166666666666667\n",
      "Recall score of Random Forest Classifier is: 0.5916666666666667\n",
      "Recall score of Decision Tree Classifier is: 0.65\n",
      "Recall score of Support Vector Machine is: 0.375\n",
      "Recall score of Logistic Regression is: 0.6166666666666667\n"
     ]
    }
   ],
   "source": [
    "print(\"Recall score of KNN is:\", recall_score(y_test,Y_pred))\n",
    "print(\"Recall score of Random Forest Classifier is:\", recall_score(y_test,y_pred_test_rf))\n",
    "print(\"Recall score of Decision Tree Classifier is:\", recall_score(y_test,predsdtc))\n",
    "print(\"Recall score of Support Vector Machine is:\", recall_score(y_test,y_pred))\n",
    "print(\"Recall score of Logistic Regression is:\", recall_score(y_test,y1_pred))"
   ]
  },
  {
   "cell_type": "code",
   "execution_count": 67,
   "id": "42a6b1a9",
   "metadata": {},
   "outputs": [
    {
     "name": "stdout",
     "output_type": "stream",
     "text": [
      "F1 score of KNN is: 0.5025125628140704\n",
      "F1 score of Random Forest Classifier is: 0.7208121827411168\n",
      "F1 score of Decision Tree Classifier is: 0.6141732283464567\n",
      "F1 score of Support Vector Machine is: 0.49723756906077343\n",
      "F1 score of Logistic Regression is: 0.6981132075471699\n"
     ]
    }
   ],
   "source": [
    "print(\"F1 score of KNN is:\", f1_score(y_test,Y_pred))\n",
    "print(\"F1 score of Random Forest Classifier is:\", f1_score(y_test,y_pred_test_rf))\n",
    "print(\"F1 score of Decision Tree Classifier is:\", f1_score(y_test,predsdtc))\n",
    "print(\"F1 score of Support Vector Machine is:\", f1_score(y_test,y_pred))\n",
    "print(\"F1 score of Logistic Regression is:\", f1_score(y_test,y1_pred))"
   ]
  },
  {
   "cell_type": "code",
   "execution_count": 68,
   "id": "1bfabca8",
   "metadata": {},
   "outputs": [
    {
     "name": "stdout",
     "output_type": "stream",
     "text": [
      "Accuracy score of KNN is: 0.91\n",
      "Accuracy score of Random Forest Classifier is: 0.95\n",
      "Accuracy score of Decision Tree Classifier is: 0.9109090909090909\n",
      "Accuracy score of Support Vector Machine is: 0.9172727272727272\n",
      "Accuracy score of Logistic Regression is: 0.9418181818181818\n"
     ]
    }
   ],
   "source": [
    "print(\"Accuracy score of KNN is:\", accuracy_score(y_test,Y_pred))\n",
    "print(\"Accuracy score of Random Forest Classifier is:\", accuracy_score(y_test,y_pred_test_rf))\n",
    "print(\"Accuracy score of Decision Tree Classifier is:\", accuracy_score(y_test,predsdtc))\n",
    "print(\"Accuracy score of Support Vector Machine is:\", accuracy_score(y_test,y_pred))\n",
    "print(\"Accuracy score of Logistic Regression is:\", accuracy_score(y_test,y1_pred))"
   ]
  },
  {
   "cell_type": "code",
   "execution_count": null,
   "id": "c21c8f44",
   "metadata": {},
   "outputs": [],
   "source": []
  }
 ],
 "metadata": {
  "kernelspec": {
   "display_name": "Python 3 (ipykernel)",
   "language": "python",
   "name": "python3"
  },
  "language_info": {
   "codemirror_mode": {
    "name": "ipython",
    "version": 3
   },
   "file_extension": ".py",
   "mimetype": "text/x-python",
   "name": "python",
   "nbconvert_exporter": "python",
   "pygments_lexer": "ipython3",
   "version": "3.9.7"
  }
 },
 "nbformat": 4,
 "nbformat_minor": 5
}
